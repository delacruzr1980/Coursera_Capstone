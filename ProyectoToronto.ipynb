{
 "cells": [
  {
   "cell_type": "markdown",
   "id": "90f033d9-0be1-4bf7-ba10-3d677c193b3b",
   "metadata": {},
   "source": [
    "# Final Capstone Project: The Battle of Neighborhoods\n",
    "1. Installing and Importing Python Libraries and Dependencies\n"
   ]
  },
  {
   "cell_type": "code",
   "execution_count": null,
   "id": "f65fe366-7277-4572-ab37-cb214073bf98",
   "metadata": {},
   "outputs": [],
   "source": [
    "pip install geocoder\n",
    "!pip install folium\n",
    "import pandas as pd\n",
    "import requests\n",
    "import numpy as np\n",
    "import geocoder\n",
    "import folium\n",
    "import requests \n",
    "import matplotlib.cm as cm\n",
    "import matplotlib.colors as colors\n",
    "import json\n",
    "import xml\n",
    "import matplotlib.pyplot as plt\n",
    "%matplotlib inline\n",
    "import warnings\n",
    "warnings.filterwarnings(\"ignore\")\n",
    "\n",
    "from pandas.io.json import json_normalize \n",
    "from sklearn.cluster import KMeans\n",
    "from geopy.geocoders import Nominatim \n",
    "from bs4 import BeautifulSoup\n",
    "\n",
    "pd.set_option('display.max_columns', None)\n",
    "pd.set_option('display.max_rows', None)\n",
    "\n",
    "print(\"All Python Libraries and Dependencies Imported\")\n"
   ]
  },
  {
   "cell_type": "markdown",
   "id": "a8a8584c-1fac-4867-bce1-b705ae85b36c",
   "metadata": {},
   "source": [
    "Data Extraction and Cleaning\n",
    "Using BeautifulSoup Scraping List of Postal Codes of Given Wikipedia Page. Link: https://en.wikipedia.org/wiki/List_of_postal_codes_of_Canada:_M\n"
   ]
  },
  {
   "cell_type": "code",
   "execution_count": null,
   "id": "807927e1-6d1a-4af1-9702-19f739ecc414",
   "metadata": {},
   "outputs": [],
   "source": [
    "url = \"https://en.wikipedia.org/wiki/List_of_postal_codes_of_Canada:_M\"\n",
    "extracting_data = requests.get(url).text\n",
    "wiki_data = BeautifulSoup(extracting_data, 'lxml')\n"
   ]
  },
  {
   "cell_type": "code",
   "execution_count": null,
   "id": "ef70b9f6-5018-4e62-9e18-4ad091304043",
   "metadata": {},
   "outputs": [],
   "source": [
    "Converting content of PostalCode HTML table as dataframe"
   ]
  },
  {
   "cell_type": "code",
   "execution_count": null,
   "id": "5c191b4f-6c07-4f14-8dd9-872edfd5434b",
   "metadata": {},
   "outputs": [],
   "source": [
    "column_names = ['Postalcode','Borough','Neighborhood']\n",
    "toronto = pd.DataFrame(columns = column_names)\n",
    "\n",
    "content = wiki_data.find('div', class_='mw-parser-output')\n",
    "table = content.table.tbody\n",
    "postcode = 0\n",
    "borough = 0\n",
    "neighborhood = 0\n",
    "\n",
    "for tr in table.find_all('tr'):\n",
    "    i = 0\n",
    "    for td in tr.find_all('td'):\n",
    "        if i == 0:\n",
    "            postcode = td.text\n",
    "            i = i + 1\n",
    "        elif i == 1:\n",
    "            borough = td.text\n",
    "            i = i + 1\n",
    "        elif i == 2: \n",
    "            neighborhood = td.text.strip('\\n').replace(']','')\n",
    "    toronto = toronto.append({'Postalcode': postcode,'Borough': borough,'Neighborhood': neighborhood},ignore_index=True)\n"
   ]
  },
  {
   "cell_type": "code",
   "execution_count": null,
   "id": "9cf5f1d5-cdc4-4a69-be5e-2a127d5bc88e",
   "metadata": {},
   "outputs": [],
   "source": [
    "# clean dataframe \n",
    "toronto = toronto[toronto.Borough!='Not assigned']\n",
    "toronto = toronto[toronto.Borough!= 0]\n",
    "toronto.reset_index(drop = True, inplace = True)\n",
    "i = 0\n",
    "for i in range(0,toronto.shape[0]):\n",
    "    if toronto.iloc[i][2] == 'Not assigned':\n",
    "        toronto.iloc[i][2] = toronto.iloc[i][1]\n",
    "        i = i+1\n"
   ]
  },
  {
   "cell_type": "code",
   "execution_count": null,
   "id": "99a9d4d2-63c4-464c-a2d8-69a6238ce106",
   "metadata": {},
   "outputs": [],
   "source": [
    "df = toronto.groupby(['Postalcode','Borough'])['Neighborhood'].apply(', '.join).reset_index()\n",
    "df.head()\n"
   ]
  },
  {
   "cell_type": "code",
   "execution_count": null,
   "id": "f0a2bee2-39a6-430d-8ca5-7981987cedae",
   "metadata": {},
   "outputs": [],
   "source": [
    "\n",
    "df.describe()\n"
   ]
  },
  {
   "cell_type": "code",
   "execution_count": null,
   "id": "55310b8c-c90d-4d18-ac58-7d9a2577b6c2",
   "metadata": {},
   "outputs": [],
   "source": [
    "df = df.dropna()\n",
    "empty = 'Not assigned'\n",
    "df = df[(df.Postalcode != empty ) & (df.Borough != empty) & (df.Neighborhood != empty)]\n"
   ]
  },
  {
   "cell_type": "code",
   "execution_count": null,
   "id": "1bb53e90-5c2a-46fc-867c-c1898fdf3523",
   "metadata": {},
   "outputs": [],
   "source": [
    "df.head()"
   ]
  },
  {
   "cell_type": "code",
   "execution_count": null,
   "id": "3a3c4b52-bf95-420b-b660-ab48a54609cc",
   "metadata": {},
   "outputs": [],
   "source": [
    "def neighborhood_list(grouped):    \n",
    "    return ', '.join(sorted(grouped['Neighborhood'].tolist()))\n",
    "                    \n",
    "grp = df.groupby(['Postalcode', 'Borough'])\n",
    "df_2 = grp.apply(neighborhood_list).reset_index(name='Neighborhood')\n"
   ]
  },
  {
   "cell_type": "code",
   "execution_count": null,
   "id": "7269ce19-eacc-4ceb-bc24-ce918c6c7484",
   "metadata": {},
   "outputs": [],
   "source": [
    "df_2.describe()"
   ]
  },
  {
   "cell_type": "code",
   "execution_count": null,
   "id": "ece09815-2aeb-4f16-844e-1d5f53b17a34",
   "metadata": {},
   "outputs": [],
   "source": [
    "print(df_2.shape)\n",
    "df_2.head()\n"
   ]
  },
  {
   "cell_type": "code",
   "execution_count": null,
   "id": "51e56e4e-5dbe-488f-9612-ee81a4393a8f",
   "metadata": {},
   "outputs": [],
   "source": [
    "def get_latilong(postal_code):\n",
    "    lati_long_coords = None\n",
    "    while(lati_long_coords is None):\n",
    "        g = geocoder.arcgis('{}, Toronto, Ontario'.format(postal_code))\n",
    "        lati_long_coords = g.latlng\n",
    "    return lati_long_coords\n",
    "    \n",
    "get_latilong('M4G')\n"
   ]
  },
  {
   "cell_type": "code",
   "execution_count": null,
   "id": "df4317b9-6e44-47e6-b789-ccb0639a54f3",
   "metadata": {},
   "outputs": [],
   "source": [
    "# Retrieving Postal Code Co-ordinates\n",
    "postal_codes = df_2['Postalcode']    \n",
    "coords = [ get_latilong(postal_code) for postal_code in postal_codes.tolist() ]\n"
   ]
  },
  {
   "cell_type": "code",
   "execution_count": null,
   "id": "7b5f0111-f9fd-44cf-848a-6fbe984c1596",
   "metadata": {},
   "outputs": [],
   "source": [
    "# Adding Columns Latitude & Longitude\n",
    "df_coords = pd.DataFrame(coords, columns=['Latitude', 'Longitude'])\n",
    "df_2['Latitude'] = df_coords['Latitude']\n",
    "df_2['Longitude'] = df_coords['Longitude']\n"
   ]
  },
  {
   "cell_type": "code",
   "execution_count": null,
   "id": "6a08d4c1-db33-4054-8256-2723d3690108",
   "metadata": {},
   "outputs": [],
   "source": [
    "df_2[df_2.Postalcode == 'M5G']"
   ]
  },
  {
   "cell_type": "code",
   "execution_count": null,
   "id": "f3d28867-5c15-4771-abc0-3faa323b81ba",
   "metadata": {},
   "outputs": [],
   "source": [
    "df_2.head(10)"
   ]
  },
  {
   "cell_type": "code",
   "execution_count": null,
   "id": "62a3f9bc-de14-4cc4-818f-5ac96604dc5a",
   "metadata": {},
   "outputs": [],
   "source": [
    "address = 'Scarborough,Toronto'\n",
    "\n",
    "geolocator = Nominatim()\n",
    "location = geolocator.geocode(address)\n",
    "latitude_x = location.latitude\n",
    "longitude_y = location.longitude\n",
    "print('The Geograpical Co-ordinate of Seattle,Washington are {}, {}.'.format(latitude_x, longitude_y))\n",
    "\n",
    "\n"
   ]
  },
  {
   "cell_type": "code",
   "execution_count": null,
   "id": "42d8e93d-f281-4907-96cf-53803fe295c0",
   "metadata": {},
   "outputs": [],
   "source": [
    "map_Scarborough = folium.Map(location=[latitude_x, longitude_y], zoom_start=10)\n",
    "\n",
    "for lat, lng, nei in zip(df_2['Latitude'], df_2['Longitude'], df_2['Neighborhood']):\n",
    "    \n",
    "    label = '{}'.format(nei)\n",
    "    label = folium.Popup(label, parse_html=True)\n",
    "    folium.CircleMarker(\n",
    "        [lat, lng],\n",
    "        radius=5,\n",
    "        popup=label,\n",
    "        color='blue',\n",
    "        fill=True,\n",
    "        fill_color='#3186cc',\n",
    "        fill_opacity=0.7,\n",
    "        parse_html=False).add_to(map_Scarborough)  \n",
    "    \n",
    "map_Scarborough\n"
   ]
  },
  {
   "cell_type": "code",
   "execution_count": null,
   "id": "3b1db580-76b3-43f8-a9d5-a946e2c2c89e",
   "metadata": {},
   "outputs": [],
   "source": [
    "address = 'Scarborough,Toronto'\n",
    "\n",
    "geolocator = Nominatim()\n",
    "location = geolocator.geocode(address)\n",
    "latitude_n1 = location.latitude\n",
    "longitude_n1 = location.longitude\n",
    "print('The Geograpical Co-ordinate of Neighborhood_1 are {}, {}.'.format(latitude_x, longitude_y))\n",
    "The Geograpical Co-ordinate of Neighborhood_1 are 43.773077, -79.257774.\n"
   ]
  },
  {
   "cell_type": "markdown",
   "id": "4d120ddc-f0b1-43eb-81e7-3b5f91fca29c",
   "metadata": {},
   "source": [
    "# The code was removed by Watson Studio for sharing."
   ]
  },
  {
   "cell_type": "code",
   "execution_count": null,
   "id": "ac475e9d-65c2-430e-a397-859406459cfe",
   "metadata": {},
   "outputs": [],
   "source": [
    "radius = 700 \n",
    "LIMIT = 100\n",
    "url = 'https://api.foursquare.com/v2/venues/explore?&client_id={}&client_secret={}&v={}&ll={},{}&radius={}&limit={}'.format(\n",
    "    CLIENT_ID, \n",
    "    CLIENT_SECRET, \n",
    "    VERSION, \n",
    "    latitude_n1, \n",
    "   longitude_n1, \n",
    "    radius, \n",
    "   LIMIT)\n",
    "results = requests.get(url).json()\n",
    "print(results)\n",
    "\n"
   ]
  },
  {
   "cell_type": "code",
   "execution_count": null,
   "id": "144f718f-9178-49fd-846d-d4ca8a0f853f",
   "metadata": {},
   "outputs": [],
   "source": [
    "venues=results['response']['groups'][0]['items']\n",
    "nearby_venues = json_normalize(venues)\n",
    "nearby_venues.columns\n",
    "\n"
   ]
  },
  {
   "cell_type": "code",
   "execution_count": null,
   "id": "004dcb13-6f3d-43d3-8b8c-0292732431e8",
   "metadata": {},
   "outputs": [],
   "source": [
    "def get_category_type(row):\n",
    "    try:\n",
    "        categories_list = row['categories']\n",
    "    except:\n",
    "        categories_list = row['venue.categories']\n",
    "        \n",
    "    if len(categories_list) == 0:\n",
    "        return None\n",
    "    else:\n",
    "        return categories_list[0]['name']\n"
   ]
  },
  {
   "cell_type": "markdown",
   "id": "fe52cebb-cf10-4ddf-83fa-ae4bb1f027af",
   "metadata": {},
   "source": [
    "Nearby Venues/Locations"
   ]
  },
  {
   "cell_type": "code",
   "execution_count": null,
   "id": "de79a78a-5b6f-47a7-bbd0-91a500ae4a7a",
   "metadata": {},
   "outputs": [],
   "source": [
    "filtered_columns = ['venue.name', 'venue.categories', 'venue.location.lat', 'venue.location.lng']\n",
    "nearby_venues =nearby_venues.loc[:, filtered_columns]\n",
    "nearby_venues.head()\n"
   ]
  },
  {
   "cell_type": "code",
   "execution_count": null,
   "id": "bef91d97-5b6c-4c7c-abab-67054acbdc88",
   "metadata": {},
   "outputs": [],
   "source": [
    "Categories of Nearby Venues/Locations"
   ]
  },
  {
   "cell_type": "code",
   "execution_count": null,
   "id": "c59de755-4dfe-42b3-bb70-bf4e9bb78b9c",
   "metadata": {},
   "outputs": [],
   "source": [
    "nearby_venues['venue.categories'] = nearby_venues.apply(get_category_type, axis=1)\n",
    "\n"
   ]
  },
  {
   "cell_type": "code",
   "execution_count": null,
   "id": "6d95f893-efd4-4094-b8f1-3a6501050bf3",
   "metadata": {},
   "outputs": [],
   "source": [
    "# clean columns\n",
    "nearby_venues.columns = [col.split(\".\")[-1] for col in nearby_venues.columns]\n",
    "\n",
    "nearby_venues.head(5)\n",
    "\n"
   ]
  },
  {
   "cell_type": "code",
   "execution_count": null,
   "id": "c64e31f4-26d8-4d36-a944-2589adbeb481",
   "metadata": {},
   "outputs": [],
   "source": [
    "# Top 10 Categories\n",
    "a=pd.Series(nearby_venues.categories)\n",
    "a.value_counts()[:10]\n"
   ]
  },
  {
   "cell_type": "code",
   "execution_count": null,
   "id": "bbc35392-9bd3-4fd5-9076-789ed441af3b",
   "metadata": {},
   "outputs": [],
   "source": [
    "def getNearbyVenues(names, latitudes, longitudes, radius=700):\n",
    "    \n",
    "    venues_list=[]\n",
    "    for name, lat, lng in zip(names, latitudes, longitudes):\n",
    "        print(name)\n",
    "            \n",
    "        url = 'https://api.foursquare.com/v2/venues/explore?&client_id={}&client_secret={}&v={}&ll={},{}&radius={}&limit={}'.format(\n",
    "            CLIENT_ID, \n",
    "            CLIENT_SECRET, \n",
    "            VERSION, \n",
    "            lat, \n",
    "            lng, \n",
    "            radius, \n",
    "            LIMIT)\n",
    "            \n",
    "        # making GET request\n",
    "        venue_results = requests.get(url).json()[\"response\"]['groups'][0]['items']\n",
    "        \n",
    "        # return only relevant information for each nearby venue\n",
    "        venues_list.append([(\n",
    "            name, \n",
    "            lat, \n",
    "            lng, \n",
    "            v['venue']['name'], \n",
    "            v['venue']['location']['lat'], \n",
    "            v['venue']['location']['lng'],  \n",
    "            v['venue']['categories'][0]['name']) for v in venue_results])\n",
    "\n",
    "    nearby_venues = pd.DataFrame([item for venue_list in venues_list for item in venue_list])\n",
    "    nearby_venues.columns = ['Neighborhood', \n",
    "                  'Neighborhood Latitude', \n",
    "                  'Neighborhood Longitude', \n",
    "                  'Venue', \n",
    "                  'Venue Latitude', \n",
    "                  'Venue Longitude', \n",
    "                  'Venue Category']\n",
    "    \n",
    "    return(nearby_venues)\n"
   ]
  },
  {
   "cell_type": "code",
   "execution_count": null,
   "id": "3c090175-1984-476d-a896-1128d4beaff2",
   "metadata": {},
   "outputs": [],
   "source": [
    "# Nearby Venues\n",
    "Scarborough_venues = getNearbyVenues(names=df_2['Neighborhood'],\n",
    "                                   latitudes=df_2['Latitude'],\n",
    "                                   longitudes=df_2['Longitude']\n",
    "                                  )\n"
   ]
  },
  {
   "cell_type": "code",
   "execution_count": null,
   "id": "df379a0d-427a-4bf2-8d86-0b9822e21de0",
   "metadata": {},
   "outputs": [],
   "source": [
    "print('There are {} Uniques Categories.'.format(len(Scarborough_venues['Venue Category'].unique())))\n",
    "Scarborough_venues.groupby('Neighborhood').count().head()\n",
    "\n"
   ]
  },
  {
   "cell_type": "markdown",
   "id": "bc5f3ab1-1996-47e3-b3f4-55b382a163a6",
   "metadata": {},
   "source": [
    "One Hot Encoding of Features"
   ]
  },
  {
   "cell_type": "code",
   "execution_count": null,
   "id": "8772bbfc-4ae2-4fe7-ae21-ab07314ccb22",
   "metadata": {},
   "outputs": [],
   "source": [
    "# one hot encoding\n",
    "Scarborough_onehot = pd.get_dummies(Scarborough_venues[['Venue Category']], prefix=\"\", prefix_sep=\"\")\n",
    "\n",
    "# add neighborhood column back to dataframe\n",
    "Scarborough_onehot['Neighborhood'] = Scarborough_venues['Neighborhood'] \n",
    "\n",
    "# move neighborhood column to the first column\n",
    "fixed_columns = [Scarborough_onehot.columns[-1]] + list(Scarborough_onehot.columns[:-1])\n",
    "Scarborough_onehot = Scarborough_onehot[fixed_columns]\n",
    "Scarborough_grouped = Scarborough_onehot.groupby('Neighborhood').mean().reset_index()\n",
    "Scarborough_onehot.head(5)\n"
   ]
  },
  {
   "cell_type": "code",
   "execution_count": null,
   "id": "545f3c6f-ff2d-430c-9863-68fcddc54421",
   "metadata": {},
   "outputs": [],
   "source": [
    "num_top_venues = 5\n",
    "for hood in Scarborough_grouped['Neighborhood']:\n",
    "    print(\"---- \"+hood+\" ----\")\n",
    "    temp =Scarborough_grouped[Scarborough_grouped['Neighborhood'] == hood].T.reset_index()\n",
    "    temp.columns = ['venue','freq']\n",
    "    temp = temp.iloc[1:]\n",
    "    temp['freq'] = temp['freq'].astype(float)\n",
    "    temp = temp.round({'freq': 2})\n",
    "    print(temp.sort_values('freq', ascending=False).reset_index(drop=True).head(num_top_venues))\n",
    "    print('\\n')\n"
   ]
  },
  {
   "cell_type": "code",
   "execution_count": null,
   "id": "4fb3f9ba-7466-42ff-9144-3c37b95ee568",
   "metadata": {},
   "outputs": [],
   "source": [
    "def return_most_common_venues(row, num_top_venues):\n",
    "    row_categories = row.iloc[1:]\n",
    "    row_categories_sorted = row_categories.sort_values(ascending=False)\n",
    "    \n",
    "    return row_categories_sorted.index.values[0:num_top_venues]\n",
    "\n"
   ]
  },
  {
   "cell_type": "markdown",
   "id": "cb4105df-4aed-408c-a1a6-86690a02f9e9",
   "metadata": {},
   "source": [
    "# Most Common venues near neighborhood"
   ]
  },
  {
   "cell_type": "code",
   "execution_count": null,
   "id": "4c3f7667-500c-46a7-ba2d-cfe6f51ae125",
   "metadata": {},
   "outputs": [],
   "source": [
    "import numpy as np\n",
    "num_top_venues = 10\n",
    "\n",
    "indicators = ['st', 'nd', 'rd']\n",
    "\n",
    "columns = ['Neighborhood']\n",
    "for ind in np.arange(num_top_venues):\n",
    "    try:\n",
    "        columns.append('{}{} Most Common Venue'.format(ind+1, indicators[ind]))\n",
    "    except:\n",
    "        columns.append('{}th Most Common Venue'.format(ind+1))\n",
    "\n",
    "neighborhoods_venues_sorted = pd.DataFrame(columns=columns)\n",
    "neighborhoods_venues_sorted['Neighborhood'] = Scarborough_grouped['Neighborhood']\n",
    "\n",
    "for ind in np.arange(Scarborough_grouped.shape[0]):\n",
    "    neighborhoods_venues_sorted.iloc[ind, 1:] = return_most_common_venues(Scarborough_grouped.iloc[ind, :], num_top_venues)\n",
    "\n",
    "neighborhoods_venues_sorted.head()\n",
    "\n",
    "\n"
   ]
  },
  {
   "cell_type": "markdown",
   "id": "370a7bde-93f0-4981-808f-d3ba8cdf534b",
   "metadata": {},
   "source": [
    "# K-Means Clustering Approach"
   ]
  },
  {
   "cell_type": "code",
   "execution_count": null,
   "id": "6e58a09c-2515-40f7-9484-ce30159fb64f",
   "metadata": {},
   "outputs": [],
   "source": [
    "# Using K-Means to cluster neighborhood into 3 clusters\n",
    "Scarborough_grouped_clustering = Scarborough_grouped.drop('Neighborhood', 1)\n",
    "kmeans = KMeans(n_clusters=3, random state=0).fit(Scarborough_grouped_clustering)\n",
    "kmeans.labels_\n"
   ]
  },
  {
   "cell_type": "code",
   "execution_count": null,
   "id": "5f2c84ab-e600-4541-a50d-bb070bf13c6a",
   "metadata": {},
   "outputs": [],
   "source": [
    "neighborhoods_venues_sorted.insert(0, 'Cluster Labels', kmeans.labels_)\n",
    "\n",
    "Scarborough_merged =df_2.iloc[:16,:]\n",
    "\n",
    "# merge toronto_grouped with toronto_data to add latitude/longitude for each neighborhood\n",
    "Scarborough_merged = Scarborough_merged.join(neighborhoods_venues_sorted.set_index('Neighborhood'), on='Neighborhood')\n",
    "\n",
    "Scarborough_merged.head()# check the last columns!\n",
    "\n"
   ]
  },
  {
   "cell_type": "markdown",
   "id": "93b4b6b7-df3c-4ef3-9e1f-9f8cffbfedc6",
   "metadata": {},
   "source": [
    "# Map of Clusters"
   ]
  },
  {
   "cell_type": "code",
   "execution_count": null,
   "id": "712f46f1-2af3-4fd4-bc39-b7eda32dc8e1",
   "metadata": {},
   "outputs": [],
   "source": [
    "kclusters = 10"
   ]
  },
  {
   "cell_type": "code",
   "execution_count": null,
   "id": "0cbb90d4-d67d-4803-b498-f7a9fc6ed4d9",
   "metadata": {},
   "outputs": [],
   "source": [
    "# create map\n",
    "map_clusters = folium.Map(location=[latitude_x, longitude_y], zoom_start=11)\n",
    "\n",
    "# set color scheme for the clusters\n",
    "x = np.arange(kclusters)\n",
    "colors_array = cm.rainbow(np.linspace(0, 1, kclusters))\n",
    "rainbow = [colors.rgb2hex(i) for i in colors_array]\n",
    "print(rainbow)\n",
    "# add markers to the map\n",
    "\n",
    "markers_colors = []\n",
    "for lat, lon, nei , cluster in zip(Scarborough_merged['Latitude'], \n",
    "                                   Scarborough_merged['Longitude'], \n",
    "                                   Scarborough_merged['Neighborhood'], \n",
    "                                   Scarborough_merged['Cluster Labels']):\n",
    "    label = folium.Popup(str(nei) + ' Cluster ' + str(cluster), parse_html=True)\n",
    "    folium.CircleMarker(\n",
    "        [lat, lon],\n",
    "        radius=5,\n",
    "        popup=label,\n",
    "        color=rainbow[cluster-1],\n",
    "        fill=True,\n",
    "        fill_color=rainbow[cluster-1],\n",
    "        fill_opacity=0.7).add_to(map_clusters)\n",
    "       \n",
    "map_clusters\n"
   ]
  },
  {
   "cell_type": "code",
   "execution_count": null,
   "id": "b3c50890-d84a-4bad-9e03-580da046c175",
   "metadata": {},
   "outputs": [],
   "source": [
    "df1=Scarborough_merged.loc[Scarborough_merged['Cluster Labels'] == 0,Scarborough_merged.columns[[2] + list(range(5, Scarborough_merged.shape[1]))]]\n",
    "df2=Scarborough_merged.loc[Scarborough_merged['Cluster Labels'] == 1,Scarborough_merged.columns[[2] + list(range(5, Scarborough_merged.shape[1]))]]\n",
    "df3=Scarborough_merged.loc[Scarborough_merged['Cluster Labels'] == 2,Scarborough_merged.columns[[2] + list(range(5, Scarborough_merged.shape[1]))]]\n"
   ]
  },
  {
   "cell_type": "code",
   "execution_count": null,
   "id": "4485957e-5adf-4f12-9c2f-996fe28e75f8",
   "metadata": {},
   "outputs": [],
   "source": [
    "Scarborough_Avg_HousingPrice=pd.DataFrame({\"Neighborhood\":df_2[\"Neighborhood\"],\n",
    "                                      \"Average_Housing_Price\":[335000.0,286600.0,175000.0,225900.0,219400.0,\n",
    "                                                               573900.0,225000.0,370500.0,370500.0,433500.0,279200.0,\n",
    "                                                               279200.0,225000.0,370500.,255400.0,433500.0,433500.0,\n",
    "                                                               435000.0,289500.0,265000.0,285900.0,239400.0,\n",
    "                                                               589900.0,295000.0,380500.0,378500.0,438500.0,229200.0,\n",
    "                                                               229200.0,365000.0,388500.,285400.0,493500.0,477500.0,378000.0,316600.0,195000.0,225900.0,219400.0,\n",
    "                                                               573900.0,367000.0,370500.0,370500.0,363500.0,279200.0,\n",
    "                                                               279200.0,271000.0,370500.,255400.0,383500.0,433500.0,335000.0,286600.0,185000.0,225900.0,219400.0,\n",
    "                                                               573900.0,329000.0,370500.0,370500.0,533500.0,279200.0,\n",
    "                                                               279200.0,375000.0,370500.,255400.0,493500.0,433500.0,335000.0,286600.0,165000.0,225900.0,219400.0,\n",
    "                                                               573900.0,425000.0,370500.0,370500.0,433500.0,279200.0,\n",
    "                                                               279200.0,195000.0,370500.,255400.0,403500.0,433500.0,335000.0,286600.0,187000.0,225900.0,219400.0,\n",
    "                                                               573900.0,325000.0,370500.0,370500.0,333500.0,279200.0,\n",
    "                                                               279200.0,289000.0,370500.,255400.0,413500.0,433500.0,254800.0]})\n",
    "\n"
   ]
  },
  {
   "cell_type": "code",
   "execution_count": null,
   "id": "a07147c1-be26-4d3f-96bc-d5a7779a3dff",
   "metadata": {},
   "outputs": [],
   "source": [
    "Scarborough_Avg_HousingPrice.set_index('Neighborhood',inplace=True,drop=True)"
   ]
  },
  {
   "cell_type": "code",
   "execution_count": null,
   "id": "59181046-43d4-462a-81c4-159ce7b850e1",
   "metadata": {},
   "outputs": [],
   "source": [
    "Scarborough_Avg_HousingPrice.plot(kind='bar',figsize=(24,18),alpha=0.75)"
   ]
  },
  {
   "cell_type": "markdown",
   "id": "989db9eb-abeb-4e5a-af07-07728dcac620",
   "metadata": {},
   "source": [
    "# School Rating by Clusters"
   ]
  },
  {
   "cell_type": "code",
   "execution_count": null,
   "id": "83265e05-2552-4b6d-9598-daf839a32b0c",
   "metadata": {},
   "outputs": [],
   "source": [
    "clusters=pd.DataFrame({\"Cluster1\":df1[\"Neighborhood\"],\n",
    "                      \"Cluster2\":df2[\"Neighborhood\"],\n",
    "                      \"Cluster4\":df3[\"Neighborhood\"]})\n",
    "clusters = clusters.replace(np.nan, '', regex=True)\n"
   ]
  },
  {
   "cell_type": "code",
   "execution_count": null,
   "id": "f212cec7-f433-4d76-94fc-2f1a8b49e8cf",
   "metadata": {},
   "outputs": [],
   "source": [
    "new_Scarborough=Scarborough_merged.set_index(\"Neighborhood\",drop=True)\n",
    "#Source:https://www.greatschools.org\n",
    "Scarborough_school_ratings=pd.DataFrame({\"Neighborhood\":df[\"Neighborhood\"],\n",
    "                                      \"Top School Rating\":[7,9,5,8,10,10,7,10,1,2,1,2,7,2,3,2,6,\n",
    "                                                           5,4,8,9,9,6,6,4,5,4,6,8,10,8,9,6,2,\n",
    "                                                           10,2,5,8,9,6,6,10,8,9,1,2,3,4,5,6,9,\n",
    "                                                           8,5,9,6,9,6,4,8,10,2,5,6,3,9,8,7,\n",
    "                                                           7,8,5,8,9,1,5,4,7,2,3,6,6,9,4,8,7,\n",
    "                                                           4,8,9,2,6,4,7,5,10,4,6,8,9,7,5,6,5,8,7\n",
    "                                                           ]})\n"
   ]
  },
  {
   "cell_type": "code",
   "execution_count": null,
   "id": "ce121fbf-ac09-4b0b-abef-2d7f10221663",
   "metadata": {},
   "outputs": [],
   "source": [
    "Scarborough_school_ratings.set_index('Neighborhood',inplace=True,drop=True)"
   ]
  },
  {
   "cell_type": "code",
   "execution_count": null,
   "id": "38cac47d-8f5f-4aa4-9ed2-434343c45e36",
   "metadata": {},
   "outputs": [],
   "source": [
    "Scarborough_school_ratings.plot(kind='bar',figsize=(16,10),color='green',alpha=0.85);"
   ]
  },
  {
   "cell_type": "code",
   "execution_count": null,
   "id": "4f14ef3e-6fcd-4bff-85b9-98606b76a155",
   "metadata": {},
   "outputs": [],
   "source": []
  },
  {
   "cell_type": "code",
   "execution_count": null,
   "id": "c459ee5e-59f4-4b5c-b714-f4932e01c377",
   "metadata": {},
   "outputs": [],
   "source": []
  }
 ],
 "metadata": {
  "kernelspec": {
   "display_name": "Python 3 (ipykernel)",
   "language": "python",
   "name": "python3"
  },
  "language_info": {
   "codemirror_mode": {
    "name": "ipython",
    "version": 3
   },
   "file_extension": ".py",
   "mimetype": "text/x-python",
   "name": "python",
   "nbconvert_exporter": "python",
   "pygments_lexer": "ipython3",
   "version": "3.9.7"
  }
 },
 "nbformat": 4,
 "nbformat_minor": 5
}
